{
 "cells": [
  {
   "cell_type": "code",
   "execution_count": null,
   "id": "9848642c",
   "metadata": {},
   "outputs": [],
   "source": [
    "import numpy as np\n",
    "import matplotlib.pyplot as plt\n",
    "\n",
    "def reward_function(position):\n",
    "    if position > -0.4:\n",
    "        return (1+position)**2\n",
    "    else:\n",
    "        return 0\n",
    "\n",
    "positions = np.arange(-1.2, 0.6, 0.01)\n",
    "\n",
    "rewards = [reward_function(p) for p in positions]\n",
    "\n",
    "def hill(x):\n",
    "    return np.sin(3 * x)+1\n",
    "\n",
    "fig = plt.figure(figsize=(20,16))\n",
    "fig, ax = plt.subplots()\n",
    "ax.plot(positions, rewards, label='Reward function')\n",
    "ax.plot(positions, hill(positions), label='Hill shape')\n",
    "ax.set_xlabel('Position')\n",
    "ax.set_ylabel('Reward/Height')\n",
    "ax.legend()\n",
    "\n",
    "fig.savefig('reward_function.png', dpi=300)\n",
    "\n",
    "plt.show()\n",
    "\n"
   ]
  }
 ],
 "metadata": {
  "kernelspec": {
   "display_name": "Python 3 (ipykernel)",
   "language": "python",
   "name": "python3"
  }
 },
 "nbformat": 4,
 "nbformat_minor": 5
}
