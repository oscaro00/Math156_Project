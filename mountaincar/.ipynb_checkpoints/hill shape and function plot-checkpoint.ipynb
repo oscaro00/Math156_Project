{
 "cells": [
  {
   "cell_type": "code",
   "execution_count": null,
   "id": "9848642c",
   "metadata": {},
   "outputs": [],
   "source": [
    "import numpy as np\n",
    "import matplotlib.pyplot as plt\n",
    "\n",
    "def reward_function(position):\n",
    "    if position > -0.4:\n",
    "        return (1+position)**2\n",
    "    else:\n",
    "        return 0\n",
    "\n",
    "positions = np.arange(-1.2, 0.6, 0.01)\n",
    "\n",
    "rewards = [reward_function(p) for p in positions]\n",
    "\n",
    "def hill(x):\n",
    "    return np.sin(3 * x)+1\n",
    "\n",
    "fig = plt.figure(figsize=(20,16))\n",
    "fig, ax = plt.subplots()\n",
    "ax.plot(positions, rewards, label='Reward function')\n",
    "ax.plot(positions, hill(positions), label='Hill shape')\n",
    "ax.set_xlabel('Position')\n",
    "ax.set_ylabel('Reward/Height')\n",
    "ax.legend()\n",
    "\n",
    "fig.savefig('reward_function.svg', format=\"svg\")\n",
    "\n",
    "plt.show()\n",
    "\n"
   ]
  }
 ],
 "metadata": {
  "kernelspec": {
   "display_name": "Python 3 (ipykernel)",
   "language": "python",
   "name": "python3"
  },
  "language_info": {
   "codemirror_mode": {
    "name": "ipython",
    "version": 3
   },
   "file_extension": ".py",
   "mimetype": "text/x-python",
   "name": "python",
   "nbconvert_exporter": "python",
   "pygments_lexer": "ipython3",
   "version": "3.9.16"
  }
 },
 "nbformat": 4,
 "nbformat_minor": 5
}
